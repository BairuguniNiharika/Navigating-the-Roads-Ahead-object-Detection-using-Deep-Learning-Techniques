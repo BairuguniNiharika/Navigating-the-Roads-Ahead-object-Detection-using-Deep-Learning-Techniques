{
  "cells": [
    {
      "cell_type": "markdown",
      "metadata": {
        "id": "view-in-github",
        "colab_type": "text"
      },
      "source": [
        "<a href=\"https://colab.research.google.com/github/BairuguniNiharika/Navigating-the-Roads-Ahead-object-Detection-using-Deep-Learning-Techniques/blob/main/Copy_of_task_of_intern.ipynb\" target=\"_parent\"><img src=\"https://colab.research.google.com/assets/colab-badge.svg\" alt=\"Open In Colab\"/></a>"
      ]
    },
    {
      "cell_type": "markdown",
      "id": "16142b51-3bab-44af-9574-83f2c098c1be",
      "metadata": {
        "id": "16142b51-3bab-44af-9574-83f2c098c1be"
      },
      "source": [
        "# DATA COLLECTION"
      ]
    },
    {
      "cell_type": "code",
      "execution_count": null,
      "id": "6ca81c32-0807-45c9-9ba4-e075e91e1523",
      "metadata": {
        "id": "6ca81c32-0807-45c9-9ba4-e075e91e1523"
      },
      "outputs": [],
      "source": [
        "import pandas as pd\n",
        "from collections import Counter\n",
        "\n",
        "from sklearn.model_selection import train_test_split\n",
        "from sklearn.ensemble import RandomForestRegressor\n",
        "from sklearn.metrics import mean_absolute_error\n",
        "import matplotlib.pyplot as plt\n",
        "import seaborn as sns"
      ]
    },
    {
      "cell_type": "code",
      "execution_count": null,
      "id": "7a6c3458-19c9-4c2e-a681-4adcfc494e24",
      "metadata": {
        "id": "7a6c3458-19c9-4c2e-a681-4adcfc494e24"
      },
      "outputs": [],
      "source": [
        "g_f=pd.read_csv(\"gossipcop_fake.csv\")\n",
        "g_r=pd.read_csv(\"gossipcop_real.csv\")\n",
        "p_f=pd.read_csv(\"politifact_fake.csv\")\n",
        "p_r=pd.read_csv(\"politifact_fake.csv\")"
      ]
    },
    {
      "cell_type": "markdown",
      "id": "f5ebf75d-b2ca-439e-8d08-de4a4574d775",
      "metadata": {
        "id": "f5ebf75d-b2ca-439e-8d08-de4a4574d775"
      },
      "source": [
        "# TEXT PREPROCESSING"
      ]
    },
    {
      "cell_type": "code",
      "execution_count": null,
      "id": "aaa916e0-420d-4ccb-9b85-c1aee30523cc",
      "metadata": {
        "id": "aaa916e0-420d-4ccb-9b85-c1aee30523cc",
        "outputId": "88cd72e6-ee13-4eb0-e78b-373ccf261c51"
      },
      "outputs": [
        {
          "name": "stdout",
          "output_type": "stream",
          "text": [
            "                           text1              text2  category  value\n",
            "0                    hello world  more text symbols         0      1\n",
            "1  another sentence with numbers    a final example         1      2\n",
            "2                                                           0      3\n",
            "3                   extra spaces                            0      4\n",
            "\n",
            "Data read from CSV:\n",
            "                           text1              text2  category  value\n",
            "0                    hello world  more text symbols         0      1\n",
            "1  another sentence with numbers    a final example         1      2\n",
            "2                            NaN                NaN         0      3\n",
            "3                   extra spaces                NaN         0      4\n"
          ]
        },
        {
          "name": "stderr",
          "output_type": "stream",
          "text": [
            "<>:12: SyntaxWarning: invalid escape sequence '\\s'\n",
            "<>:21: SyntaxWarning: invalid escape sequence '\\s'\n",
            "<>:12: SyntaxWarning: invalid escape sequence '\\s'\n",
            "<>:21: SyntaxWarning: invalid escape sequence '\\s'\n",
            "C:\\Users\\shrut\\AppData\\Local\\Temp\\ipykernel_12676\\409031320.py:12: SyntaxWarning: invalid escape sequence '\\s'\n",
            "  text = re.sub('\\s+', ' ', text).strip()  # Remove extra whitespace\n",
            "C:\\Users\\shrut\\AppData\\Local\\Temp\\ipykernel_12676\\409031320.py:21: SyntaxWarning: invalid escape sequence '\\s'\n",
            "  text = re.sub('\\s+', ' ', text).strip() # Remove extra whitespace\n"
          ]
        }
      ],
      "source": [
        "import pandas as pd\n",
        "import re\n",
        "import string\n",
        "from sklearn.preprocessing import LabelEncoder\n",
        "\n",
        "def clean_text(text):\n",
        "    \"\"\"Cleans text data by removing punctuation, extra whitespace, and converting to lowercase.\"\"\"\n",
        "    if not isinstance(text, str):\n",
        "        return \"\"\n",
        "    text = text.lower()\n",
        "    text = re.sub('[%s]' % re.escape(string.punctuation), '', text)\n",
        "    text = re.sub('\\s+', ' ', text).strip()\n",
        "    return text\n",
        "\n",
        "def normalize_text(text):\n",
        "    \"\"\"Normalizes text by removing special characters, numbers, and converting to lowercase.\"\"\"\n",
        "    if not isinstance(text, str):\n",
        "        return \"\"\n",
        "    text = text.lower()\n",
        "    text = re.sub(r\"[^a-zA-Z\\s]\", \"\", text)\n",
        "    text = re.sub('\\s+', ' ', text).strip()\n",
        "    return text\n",
        "\n",
        "\n",
        "def clean_dataframe(df, text_columns, categorical_columns=None):\n",
        "    \"\"\"Cleans a Pandas DataFrame, including text normalization and handling categorical data.\n",
        "\n",
        "    Args:\n",
        "        df: The Pandas DataFrame to clean.\n",
        "        text_columns: A list of column names containing text data.\n",
        "        categorical_columns: A list of column names containing categorical data.\n",
        "\n",
        "    Returns:\n",
        "        A cleaned Pandas DataFrame.\n",
        "    \"\"\"\n",
        "\n",
        "    for col in text_columns:\n",
        "        df[col] = df[col].apply(clean_text)\n",
        "        df[col] = df[col].apply(normalize_text)\n",
        "\n",
        "    if categorical_columns:\n",
        "        for col in categorical_columns:\n",
        "\n",
        "            df[col] = df[col].fillna(df[col].mode()[0])\n",
        "\n",
        "            le = LabelEncoder()\n",
        "            df[col] = le.fit_transform(df[col])\n",
        "\n",
        "    df = df.dropna()\n",
        "    df = df.drop_duplicates()\n",
        "    return df\n",
        "\n",
        "# Example usage:\n",
        "data = {'text1': ['Hello!!! world 123', 'Another. sentence, with numbers 456', None, '   extra   spaces  '],\n",
        "        'text2': ['More text & symbols @#$', 'A final example.', '',''],\n",
        "        'category': ['A', 'B', 'A', None],\n",
        "        'value': [1,2,3,4]}\n",
        "df = pd.DataFrame(data)\n",
        "\n",
        "text_cols = ['text1', 'text2']\n",
        "categorical_cols = ['category']\n",
        "\n",
        "cleaned_df = clean_dataframe(df, text_cols, categorical_cols)\n",
        "print(cleaned_df)\n",
        "\n",
        "\n",
        "cleaned_df.to_csv(\"cleaned_data.csv\", index=False)\n",
        "\n",
        "\n",
        "df_from_csv = pd.read_csv(\"cleaned_data.csv\")\n",
        "print(\"\\nData read from CSV:\")\n",
        "print(df_from_csv)"
      ]
    },
    {
      "cell_type": "markdown",
      "id": "a6a02e05-9b4d-4a3a-afbe-ca380d00a811",
      "metadata": {
        "id": "a6a02e05-9b4d-4a3a-afbe-ca380d00a811"
      },
      "source": [
        "# INSTALLING SpaCy  "
      ]
    },
    {
      "cell_type": "code",
      "execution_count": null,
      "id": "e261d466-f5c4-40fc-8702-a73b2c877e4e",
      "metadata": {
        "id": "e261d466-f5c4-40fc-8702-a73b2c877e4e",
        "outputId": "784f2b4f-1ea3-4875-d343-e26412621dd0"
      },
      "outputs": [
        {
          "name": "stdout",
          "output_type": "stream",
          "text": [
            "Requirement already satisfied: spacy in c:\\users\\shrut\\anaconda3\\lib\\site-packages (3.8.3)\n",
            "Requirement already satisfied: spacy-legacy<3.1.0,>=3.0.11 in c:\\users\\shrut\\anaconda3\\lib\\site-packages (from spacy) (3.0.12)\n",
            "Requirement already satisfied: spacy-loggers<2.0.0,>=1.0.0 in c:\\users\\shrut\\anaconda3\\lib\\site-packages (from spacy) (1.0.5)\n",
            "Requirement already satisfied: murmurhash<1.1.0,>=0.28.0 in c:\\users\\shrut\\anaconda3\\lib\\site-packages (from spacy) (1.0.11)\n",
            "Requirement already satisfied: cymem<2.1.0,>=2.0.2 in c:\\users\\shrut\\anaconda3\\lib\\site-packages (from spacy) (2.0.10)\n",
            "Requirement already satisfied: preshed<3.1.0,>=3.0.2 in c:\\users\\shrut\\anaconda3\\lib\\site-packages (from spacy) (3.0.9)\n",
            "Requirement already satisfied: thinc<8.4.0,>=8.3.0 in c:\\users\\shrut\\anaconda3\\lib\\site-packages (from spacy) (8.3.3)\n",
            "Requirement already satisfied: wasabi<1.2.0,>=0.9.1 in c:\\users\\shrut\\anaconda3\\lib\\site-packages (from spacy) (1.1.3)\n",
            "Requirement already satisfied: srsly<3.0.0,>=2.4.3 in c:\\users\\shrut\\anaconda3\\lib\\site-packages (from spacy) (2.5.0)\n",
            "Requirement already satisfied: catalogue<2.1.0,>=2.0.6 in c:\\users\\shrut\\anaconda3\\lib\\site-packages (from spacy) (2.0.10)\n",
            "Requirement already satisfied: weasel<0.5.0,>=0.1.0 in c:\\users\\shrut\\anaconda3\\lib\\site-packages (from spacy) (0.4.1)\n",
            "Requirement already satisfied: typer<1.0.0,>=0.3.0 in c:\\users\\shrut\\anaconda3\\lib\\site-packages (from spacy) (0.15.1)\n",
            "Requirement already satisfied: tqdm<5.0.0,>=4.38.0 in c:\\users\\shrut\\anaconda3\\lib\\site-packages (from spacy) (4.66.4)\n",
            "Requirement already satisfied: numpy>=1.19.0 in c:\\users\\shrut\\anaconda3\\lib\\site-packages (from spacy) (1.26.4)\n",
            "Requirement already satisfied: requests<3.0.0,>=2.13.0 in c:\\users\\shrut\\anaconda3\\lib\\site-packages (from spacy) (2.32.2)\n",
            "Requirement already satisfied: pydantic!=1.8,!=1.8.1,<3.0.0,>=1.7.4 in c:\\users\\shrut\\anaconda3\\lib\\site-packages (from spacy) (2.5.3)\n",
            "Requirement already satisfied: jinja2 in c:\\users\\shrut\\anaconda3\\lib\\site-packages (from spacy) (3.1.4)\n",
            "Requirement already satisfied: setuptools in c:\\users\\shrut\\anaconda3\\lib\\site-packages (from spacy) (69.5.1)\n",
            "Requirement already satisfied: packaging>=20.0 in c:\\users\\shrut\\anaconda3\\lib\\site-packages (from spacy) (23.2)\n",
            "Requirement already satisfied: langcodes<4.0.0,>=3.2.0 in c:\\users\\shrut\\anaconda3\\lib\\site-packages (from spacy) (3.5.0)\n",
            "Requirement already satisfied: language-data>=1.2 in c:\\users\\shrut\\anaconda3\\lib\\site-packages (from langcodes<4.0.0,>=3.2.0->spacy) (1.3.0)\n",
            "Requirement already satisfied: annotated-types>=0.4.0 in c:\\users\\shrut\\anaconda3\\lib\\site-packages (from pydantic!=1.8,!=1.8.1,<3.0.0,>=1.7.4->spacy) (0.6.0)\n",
            "Requirement already satisfied: pydantic-core==2.14.6 in c:\\users\\shrut\\anaconda3\\lib\\site-packages (from pydantic!=1.8,!=1.8.1,<3.0.0,>=1.7.4->spacy) (2.14.6)\n",
            "Requirement already satisfied: typing-extensions>=4.6.1 in c:\\users\\shrut\\anaconda3\\lib\\site-packages (from pydantic!=1.8,!=1.8.1,<3.0.0,>=1.7.4->spacy) (4.11.0)\n",
            "Requirement already satisfied: charset-normalizer<4,>=2 in c:\\users\\shrut\\anaconda3\\lib\\site-packages (from requests<3.0.0,>=2.13.0->spacy) (2.0.4)\n",
            "Requirement already satisfied: idna<4,>=2.5 in c:\\users\\shrut\\anaconda3\\lib\\site-packages (from requests<3.0.0,>=2.13.0->spacy) (3.7)\n",
            "Requirement already satisfied: urllib3<3,>=1.21.1 in c:\\users\\shrut\\anaconda3\\lib\\site-packages (from requests<3.0.0,>=2.13.0->spacy) (2.2.2)\n",
            "Requirement already satisfied: certifi>=2017.4.17 in c:\\users\\shrut\\anaconda3\\lib\\site-packages (from requests<3.0.0,>=2.13.0->spacy) (2024.8.30)\n",
            "Requirement already satisfied: blis<1.2.0,>=1.1.0 in c:\\users\\shrut\\anaconda3\\lib\\site-packages (from thinc<8.4.0,>=8.3.0->spacy) (1.1.0)\n",
            "Requirement already satisfied: confection<1.0.0,>=0.0.1 in c:\\users\\shrut\\anaconda3\\lib\\site-packages (from thinc<8.4.0,>=8.3.0->spacy) (0.1.5)\n",
            "Requirement already satisfied: colorama in c:\\users\\shrut\\anaconda3\\lib\\site-packages (from tqdm<5.0.0,>=4.38.0->spacy) (0.4.6)\n",
            "Requirement already satisfied: click>=8.0.0 in c:\\users\\shrut\\anaconda3\\lib\\site-packages (from typer<1.0.0,>=0.3.0->spacy) (8.1.7)\n",
            "Requirement already satisfied: shellingham>=1.3.0 in c:\\users\\shrut\\anaconda3\\lib\\site-packages (from typer<1.0.0,>=0.3.0->spacy) (1.5.4)\n",
            "Requirement already satisfied: rich>=10.11.0 in c:\\users\\shrut\\anaconda3\\lib\\site-packages (from typer<1.0.0,>=0.3.0->spacy) (13.3.5)\n",
            "Requirement already satisfied: cloudpathlib<1.0.0,>=0.7.0 in c:\\users\\shrut\\anaconda3\\lib\\site-packages (from weasel<0.5.0,>=0.1.0->spacy) (0.20.0)\n",
            "Requirement already satisfied: smart-open<8.0.0,>=5.2.1 in c:\\users\\shrut\\anaconda3\\lib\\site-packages (from weasel<0.5.0,>=0.1.0->spacy) (5.2.1)\n",
            "Requirement already satisfied: MarkupSafe>=2.0 in c:\\users\\shrut\\anaconda3\\lib\\site-packages (from jinja2->spacy) (2.1.3)\n",
            "Requirement already satisfied: marisa-trie>=1.1.0 in c:\\users\\shrut\\anaconda3\\lib\\site-packages (from language-data>=1.2->langcodes<4.0.0,>=3.2.0->spacy) (1.2.1)\n",
            "Requirement already satisfied: markdown-it-py<3.0.0,>=2.2.0 in c:\\users\\shrut\\anaconda3\\lib\\site-packages (from rich>=10.11.0->typer<1.0.0,>=0.3.0->spacy) (2.2.0)\n",
            "Requirement already satisfied: pygments<3.0.0,>=2.13.0 in c:\\users\\shrut\\anaconda3\\lib\\site-packages (from rich>=10.11.0->typer<1.0.0,>=0.3.0->spacy) (2.15.1)\n",
            "Requirement already satisfied: mdurl~=0.1 in c:\\users\\shrut\\anaconda3\\lib\\site-packages (from markdown-it-py<3.0.0,>=2.2.0->rich>=10.11.0->typer<1.0.0,>=0.3.0->spacy) (0.1.0)\n",
            "Note: you may need to restart the kernel to use updated packages.\n"
          ]
        }
      ],
      "source": [
        "pip install spacy"
      ]
    },
    {
      "cell_type": "code",
      "execution_count": null,
      "id": "e1938466-847b-480b-b606-6f078a0011da",
      "metadata": {
        "id": "e1938466-847b-480b-b606-6f078a0011da",
        "outputId": "eb28a55e-b844-4ccb-e7a6-21a5930da207"
      },
      "outputs": [
        {
          "name": "stdout",
          "output_type": "stream",
          "text": [
            "Requirement already satisfied: pip in c:\\users\\shrut\\anaconda3\\lib\\site-packages (24.0)\n",
            "Collecting pip\n",
            "  Using cached pip-24.3.1-py3-none-any.whl.metadata (3.7 kB)\n",
            "Using cached pip-24.3.1-py3-none-any.whl (1.8 MB)\n"
          ]
        },
        {
          "name": "stderr",
          "output_type": "stream",
          "text": [
            "ERROR: To modify pip, please run the following command:\n",
            "C:\\Users\\shrut\\anaconda3\\python.exe -m pip install --upgrade pip\n"
          ]
        }
      ],
      "source": [
        "!pip install --upgrade pip"
      ]
    },
    {
      "cell_type": "code",
      "execution_count": null,
      "id": "a677b514-edbd-4041-828e-756aa8a0e421",
      "metadata": {
        "id": "a677b514-edbd-4041-828e-756aa8a0e421",
        "outputId": "43001a28-ebfa-4008-aeb7-34965071536c"
      },
      "outputs": [
        {
          "name": "stdout",
          "output_type": "stream",
          "text": [
            "Requirement already satisfied: pip in c:\\users\\shrut\\anaconda3\\lib\\site-packages (24.0)\n",
            "Collecting pip\n",
            "  Using cached pip-24.3.1-py3-none-any.whl.metadata (3.7 kB)\n",
            "Using cached pip-24.3.1-py3-none-any.whl (1.8 MB)\n"
          ]
        },
        {
          "name": "stderr",
          "output_type": "stream",
          "text": [
            "ERROR: To modify pip, please run the following command:\n",
            "C:\\Users\\shrut\\anaconda3\\python.exe -m pip install --upgrade pip\n"
          ]
        }
      ],
      "source": [
        "!pip install --upgrade pip"
      ]
    },
    {
      "cell_type": "code",
      "execution_count": null,
      "id": "a6a11b2e-1713-42f7-84f2-3880250ae3f8",
      "metadata": {
        "id": "a6a11b2e-1713-42f7-84f2-3880250ae3f8"
      },
      "outputs": [],
      "source": [
        "import pandas as pd\n",
        "import re\n",
        "from sklearn.model_selection import train_test_split\n",
        "from sklearn.ensemble import RandomForestRegressor\n",
        "from sklearn.metrics import mean_absolute_error\n",
        "import matplotlib.pyplot as plt\n",
        "import seaborn as sns\n",
        "\n",
        "# Function to load datasets and check column names\n",
        "def load_and_check_datasets():\n",
        "    # Load datasets\n",
        "    gossip_fake = pd.read_csv(\"gossipcop_fake.csv\")\n",
        "    gossip_real = pd.read_csv(\"gossipcop_real.csv\")\n",
        "    politifact_fake = pd.read_csv(\"politifact_fake.csv\")\n",
        "    politifact_real = pd.read_csv(\"politifact_real.csv\")\n",
        "\n",
        "    # Print columns for each dataset to inspect the structure\n",
        "    print(\"Columns in gossip_fake:\", gossip_fake.columns)\n",
        "    print(\"Columns in gossip_real:\", gossip_real.columns)\n",
        "    print(\"Columns in politifact_fake:\", politifact_fake.columns)\n",
        "    print(\"Columns in politifact_real:\", politifact_real.columns)\n",
        "\n",
        "    # Return the datasets for further processing\n",
        "    return gossip_fake, gossip_real, politifact_fake, politifact_real\n",
        "\n",
        "# Function to test dataset for missing values and correct column names\n",
        "def test_dataset(df, expected_columns):\n",
        "    # Check for missing values\n",
        "    missing_values = df.isnull().sum()\n",
        "    print(\"Missing values in dataset:\", missing_values)\n",
        "\n",
        "    # Check if the dataset contains the expected columns\n",
        "    if not all(col in df.columns for col in expected_columns):\n",
        "        raise ValueError(f\"Dataset is missing expected columns: {expected_columns}\")\n",
        "    else:\n",
        "        print(f\"All expected columns are present: {expected_columns}\")\n",
        "\n",
        "# Example usage\n",
        "    if _name_ == \"_main_\":\n",
        "        gossip_fake, gossip_real, politifact_fake, politifact_real = load_and_check_datasets()\n",
        "\n",
        "    # Define expected columns for each dataset\n",
        "        expected_columns_gossip = [\"id\",\t\"news_url\"\t,\"title\",\"tweet_ids\"]  # Replace with actual expected columns\n",
        "        expected_columns_politifact = ['id', 'news_url', 'title', 'tweet_ids']  # Replace with actual expected columns\n",
        "\n",
        "    # Test datasets\n",
        "    test_dataset(gossip_fake, expected_columns_gossip)\n",
        "    test_dataset(gossip_real, expected_columns_gossip)\n",
        "    test_dataset(politifact_fake, expected_columns_politifact)\n",
        "    test_dataset(politifact_real, expected_columns_politifact)"
      ]
    },
    {
      "cell_type": "code",
      "execution_count": null,
      "id": "d36e1896-b5a7-4b91-b8f0-6cfb7e125c19",
      "metadata": {
        "id": "d36e1896-b5a7-4b91-b8f0-6cfb7e125c19"
      },
      "outputs": [],
      "source": [
        "g_f=pd.read_csv(\"gossipcop_fake.csv\")\n",
        "g_r=pd.read_csv(\"gossipcop_real.csv\")\n",
        "p_f=pd.read_csv(\"politifact_fake.csv\")\n",
        "p_r=pd.read_csv(\"politifact_fake.csv\")"
      ]
    },
    {
      "cell_type": "code",
      "execution_count": null,
      "id": "75a9a5e6-529a-4f16-b285-89edf23dc670",
      "metadata": {
        "id": "75a9a5e6-529a-4f16-b285-89edf23dc670",
        "outputId": "32c606fc-5daa-41ce-e352-25559ca0a856"
      },
      "outputs": [
        {
          "name": "stdout",
          "output_type": "stream",
          "text": [
            "Requirement already satisfied: pip in c:\\users\\shrut\\anaconda3\\lib\\site-packages (24.3.1)\n"
          ]
        }
      ],
      "source": [
        "!pip install --upgrade pip"
      ]
    },
    {
      "cell_type": "code",
      "execution_count": null,
      "id": "7f726ede-1965-43ed-9bbd-0387ee8afd36",
      "metadata": {
        "id": "7f726ede-1965-43ed-9bbd-0387ee8afd36",
        "outputId": "f2203e27-7d0d-4a1b-f1bb-183123ea7c24"
      },
      "outputs": [
        {
          "name": "stdout",
          "output_type": "stream",
          "text": [
            "Requirement already satisfied: pip in c:\\users\\shrut\\anaconda3\\lib\\site-packages (24.3.1)\n"
          ]
        }
      ],
      "source": [
        "!pip install --upgrade pip"
      ]
    },
    {
      "cell_type": "markdown",
      "id": "251412b8-244d-4a27-8ea6-476e5e4fcd17",
      "metadata": {
        "id": "251412b8-244d-4a27-8ea6-476e5e4fcd17"
      },
      "source": [
        "# NAMED ENTITY RECOGNITION(NER)"
      ]
    },
    {
      "cell_type": "code",
      "execution_count": null,
      "id": "8cd01175-cbd9-430a-a3e1-bce323f1f833",
      "metadata": {
        "id": "8cd01175-cbd9-430a-a3e1-bce323f1f833",
        "outputId": "84127593-2469-4870-bd30-ca39c7179138"
      },
      "outputs": [
        {
          "name": "stdout",
          "output_type": "stream",
          "text": [
            "Missing values detected.\n",
            "id             0\n",
            "news_url     256\n",
            "title          0\n",
            "tweet_ids    188\n",
            "dtype: int64\n",
            "Dataset is missing expected columns: ['content', 'label']\n",
            "Missing values detected.\n",
            "id              0\n",
            "news_url       13\n",
            "title           0\n",
            "tweet_ids    1058\n",
            "dtype: int64\n",
            "Dataset is missing expected columns: ['content', 'label']\n",
            "Missing values detected.\n",
            "id            0\n",
            "news_url      4\n",
            "title         0\n",
            "tweet_ids    40\n",
            "dtype: int64\n",
            "Dataset is missing expected columns: ['content', 'label']\n",
            "Missing values detected.\n",
            "id            0\n",
            "news_url      4\n",
            "title         0\n",
            "tweet_ids    40\n",
            "dtype: int64\n",
            "Dataset is missing expected columns: ['content', 'label']\n"
          ]
        }
      ],
      "source": [
        "\n",
        "import pandas as pd\n",
        "import SpaCy\n",
        "\n",
        "def load_and_check_datasets():\n",
        "    gossip_fake = pd.read_csv(\"gossipcop_fake.csv\")\n",
        "    gossip_real = pd.read_csv(\"gossipcop_real.csv\")\n",
        "    politifact_fake = pd.read_csv(\"politifact_fake.csv\")\n",
        "    politifact_real = pd.read_csv(\"politifact_fake.csv\")\n",
        "\n",
        "    return gossip_fake, gossip_real, politifact_fake, politifact_real\n",
        "\n",
        "\n",
        "def test_dataset(df, expected_columns):\n",
        "\n",
        "    if df.isnull().values.any():\n",
        "        print(\"Missing values detected.\")\n",
        "        print(df.isnull().sum())\n",
        "    else:\n",
        "        print(\"No missing values detected.\")\n",
        "\n",
        "\n",
        "    missing_columns = [col for col in expected_columns if col not in df.columns]\n",
        "    if missing_columns:\n",
        "        print(f\"Dataset is missing expected columns: {missing_columns}\")\n",
        "    else:\n",
        "        print(\"All expected columns are present.\")\n",
        "\n",
        "\n",
        "gossip_fake, gossip_real, politifact_fake, politifact_real = load_and_check_datasets()\n",
        "\n",
        "\n",
        "expected_columns_gossip = ['title', 'content', 'label']\n",
        "expected_columns_politifact = ['title', 'content', 'label']\n",
        "\n",
        "\n",
        "test_dataset(gossip_fake, expected_columns_gossip)\n",
        "test_dataset(gossip_real, expected_columns_gossip)\n",
        "test_dataset(politifact_fake, expected_columns_politifact)\n",
        "test_dataset(politifact_real, expected_columns_politifact)\n",
        "\n",
        "\n"
      ]
    },
    {
      "cell_type": "code",
      "execution_count": null,
      "id": "cd1ce14a-a676-4bb5-9d8d-f23c14f3563e",
      "metadata": {
        "id": "cd1ce14a-a676-4bb5-9d8d-f23c14f3563e",
        "outputId": "9a9eee61-95de-448a-868c-cf40cf0047fe"
      },
      "outputs": [
        {
          "name": "stdout",
          "output_type": "stream",
          "text": [
            "Requirement already satisfied: nltk in c:\\users\\shrut\\anaconda3\\lib\\site-packages (3.8.1)\n",
            "Requirement already satisfied: click in c:\\users\\shrut\\anaconda3\\lib\\site-packages (from nltk) (8.1.7)\n",
            "Requirement already satisfied: joblib in c:\\users\\shrut\\anaconda3\\lib\\site-packages (from nltk) (1.4.2)\n",
            "Requirement already satisfied: regex>=2021.8.3 in c:\\users\\shrut\\anaconda3\\lib\\site-packages (from nltk) (2023.10.3)\n",
            "Requirement already satisfied: tqdm in c:\\users\\shrut\\anaconda3\\lib\\site-packages (from nltk) (4.66.4)\n",
            "Requirement already satisfied: colorama in c:\\users\\shrut\\anaconda3\\lib\\site-packages (from click->nltk) (0.4.6)\n",
            "Note: you may need to restart the kernel to use updated packages.\n"
          ]
        }
      ],
      "source": [
        "pip install nltk"
      ]
    },
    {
      "cell_type": "code",
      "execution_count": null,
      "id": "7aba3aaa-1e7e-44c7-be28-7be6f5af130e",
      "metadata": {
        "id": "7aba3aaa-1e7e-44c7-be28-7be6f5af130e",
        "outputId": "5329ccb4-8e0b-49b1-b929-5272e53ba24e"
      },
      "outputs": [
        {
          "name": "stdout",
          "output_type": "stream",
          "text": [
            "Requirement already satisfied: spacy in c:\\users\\shrut\\anaconda3\\lib\\site-packages (3.8.3)\n",
            "Requirement already satisfied: spacy-legacy<3.1.0,>=3.0.11 in c:\\users\\shrut\\anaconda3\\lib\\site-packages (from spacy) (3.0.12)\n",
            "Requirement already satisfied: spacy-loggers<2.0.0,>=1.0.0 in c:\\users\\shrut\\anaconda3\\lib\\site-packages (from spacy) (1.0.5)\n",
            "Requirement already satisfied: murmurhash<1.1.0,>=0.28.0 in c:\\users\\shrut\\anaconda3\\lib\\site-packages (from spacy) (1.0.11)\n",
            "Requirement already satisfied: cymem<2.1.0,>=2.0.2 in c:\\users\\shrut\\anaconda3\\lib\\site-packages (from spacy) (2.0.10)\n",
            "Requirement already satisfied: preshed<3.1.0,>=3.0.2 in c:\\users\\shrut\\anaconda3\\lib\\site-packages (from spacy) (3.0.9)\n",
            "Requirement already satisfied: thinc<8.4.0,>=8.3.0 in c:\\users\\shrut\\anaconda3\\lib\\site-packages (from spacy) (8.3.3)\n",
            "Requirement already satisfied: wasabi<1.2.0,>=0.9.1 in c:\\users\\shrut\\anaconda3\\lib\\site-packages (from spacy) (1.1.3)\n",
            "Requirement already satisfied: srsly<3.0.0,>=2.4.3 in c:\\users\\shrut\\anaconda3\\lib\\site-packages (from spacy) (2.5.0)\n",
            "Requirement already satisfied: catalogue<2.1.0,>=2.0.6 in c:\\users\\shrut\\anaconda3\\lib\\site-packages (from spacy) (2.0.10)\n",
            "Requirement already satisfied: weasel<0.5.0,>=0.1.0 in c:\\users\\shrut\\anaconda3\\lib\\site-packages (from spacy) (0.4.1)\n",
            "Requirement already satisfied: typer<1.0.0,>=0.3.0 in c:\\users\\shrut\\anaconda3\\lib\\site-packages (from spacy) (0.15.1)\n",
            "Requirement already satisfied: tqdm<5.0.0,>=4.38.0 in c:\\users\\shrut\\anaconda3\\lib\\site-packages (from spacy) (4.66.4)\n",
            "Requirement already satisfied: numpy>=1.19.0 in c:\\users\\shrut\\anaconda3\\lib\\site-packages (from spacy) (1.26.4)\n",
            "Requirement already satisfied: requests<3.0.0,>=2.13.0 in c:\\users\\shrut\\anaconda3\\lib\\site-packages (from spacy) (2.32.2)\n",
            "Requirement already satisfied: pydantic!=1.8,!=1.8.1,<3.0.0,>=1.7.4 in c:\\users\\shrut\\anaconda3\\lib\\site-packages (from spacy) (2.5.3)\n",
            "Requirement already satisfied: jinja2 in c:\\users\\shrut\\anaconda3\\lib\\site-packages (from spacy) (3.1.4)\n",
            "Requirement already satisfied: setuptools in c:\\users\\shrut\\anaconda3\\lib\\site-packages (from spacy) (69.5.1)\n",
            "Requirement already satisfied: packaging>=20.0 in c:\\users\\shrut\\anaconda3\\lib\\site-packages (from spacy) (23.2)\n",
            "Requirement already satisfied: langcodes<4.0.0,>=3.2.0 in c:\\users\\shrut\\anaconda3\\lib\\site-packages (from spacy) (3.5.0)\n",
            "Requirement already satisfied: language-data>=1.2 in c:\\users\\shrut\\anaconda3\\lib\\site-packages (from langcodes<4.0.0,>=3.2.0->spacy) (1.3.0)\n",
            "Requirement already satisfied: annotated-types>=0.4.0 in c:\\users\\shrut\\anaconda3\\lib\\site-packages (from pydantic!=1.8,!=1.8.1,<3.0.0,>=1.7.4->spacy) (0.6.0)\n",
            "Requirement already satisfied: pydantic-core==2.14.6 in c:\\users\\shrut\\anaconda3\\lib\\site-packages (from pydantic!=1.8,!=1.8.1,<3.0.0,>=1.7.4->spacy) (2.14.6)\n",
            "Requirement already satisfied: typing-extensions>=4.6.1 in c:\\users\\shrut\\anaconda3\\lib\\site-packages (from pydantic!=1.8,!=1.8.1,<3.0.0,>=1.7.4->spacy) (4.11.0)\n",
            "Requirement already satisfied: charset-normalizer<4,>=2 in c:\\users\\shrut\\anaconda3\\lib\\site-packages (from requests<3.0.0,>=2.13.0->spacy) (2.0.4)\n",
            "Requirement already satisfied: idna<4,>=2.5 in c:\\users\\shrut\\anaconda3\\lib\\site-packages (from requests<3.0.0,>=2.13.0->spacy) (3.7)\n",
            "Requirement already satisfied: urllib3<3,>=1.21.1 in c:\\users\\shrut\\anaconda3\\lib\\site-packages (from requests<3.0.0,>=2.13.0->spacy) (2.2.2)\n",
            "Requirement already satisfied: certifi>=2017.4.17 in c:\\users\\shrut\\anaconda3\\lib\\site-packages (from requests<3.0.0,>=2.13.0->spacy) (2024.8.30)\n",
            "Requirement already satisfied: blis<1.2.0,>=1.1.0 in c:\\users\\shrut\\anaconda3\\lib\\site-packages (from thinc<8.4.0,>=8.3.0->spacy) (1.1.0)\n",
            "Requirement already satisfied: confection<1.0.0,>=0.0.1 in c:\\users\\shrut\\anaconda3\\lib\\site-packages (from thinc<8.4.0,>=8.3.0->spacy) (0.1.5)\n",
            "Requirement already satisfied: colorama in c:\\users\\shrut\\anaconda3\\lib\\site-packages (from tqdm<5.0.0,>=4.38.0->spacy) (0.4.6)\n",
            "Requirement already satisfied: click>=8.0.0 in c:\\users\\shrut\\anaconda3\\lib\\site-packages (from typer<1.0.0,>=0.3.0->spacy) (8.1.7)\n",
            "Requirement already satisfied: shellingham>=1.3.0 in c:\\users\\shrut\\anaconda3\\lib\\site-packages (from typer<1.0.0,>=0.3.0->spacy) (1.5.4)\n",
            "Requirement already satisfied: rich>=10.11.0 in c:\\users\\shrut\\anaconda3\\lib\\site-packages (from typer<1.0.0,>=0.3.0->spacy) (13.3.5)\n",
            "Requirement already satisfied: cloudpathlib<1.0.0,>=0.7.0 in c:\\users\\shrut\\anaconda3\\lib\\site-packages (from weasel<0.5.0,>=0.1.0->spacy) (0.20.0)\n",
            "Requirement already satisfied: smart-open<8.0.0,>=5.2.1 in c:\\users\\shrut\\anaconda3\\lib\\site-packages (from weasel<0.5.0,>=0.1.0->spacy) (5.2.1)\n",
            "Requirement already satisfied: MarkupSafe>=2.0 in c:\\users\\shrut\\anaconda3\\lib\\site-packages (from jinja2->spacy) (2.1.3)\n",
            "Requirement already satisfied: marisa-trie>=1.1.0 in c:\\users\\shrut\\anaconda3\\lib\\site-packages (from language-data>=1.2->langcodes<4.0.0,>=3.2.0->spacy) (1.2.1)\n",
            "Requirement already satisfied: markdown-it-py<3.0.0,>=2.2.0 in c:\\users\\shrut\\anaconda3\\lib\\site-packages (from rich>=10.11.0->typer<1.0.0,>=0.3.0->spacy) (2.2.0)\n",
            "Requirement already satisfied: pygments<3.0.0,>=2.13.0 in c:\\users\\shrut\\anaconda3\\lib\\site-packages (from rich>=10.11.0->typer<1.0.0,>=0.3.0->spacy) (2.15.1)\n",
            "Requirement already satisfied: mdurl~=0.1 in c:\\users\\shrut\\anaconda3\\lib\\site-packages (from markdown-it-py<3.0.0,>=2.2.0->rich>=10.11.0->typer<1.0.0,>=0.3.0->spacy) (0.1.0)\n"
          ]
        }
      ],
      "source": [
        "\n",
        "!pip install --upgrade spacy"
      ]
    },
    {
      "cell_type": "markdown",
      "id": "6d5636bd-edab-4409-8146-61ac07d3529d",
      "metadata": {
        "id": "6d5636bd-edab-4409-8146-61ac07d3529d"
      },
      "source": [
        "# FEATURE ENGINEERING"
      ]
    },
    {
      "cell_type": "markdown",
      "id": "31c611a9-c5b3-4555-bf74-be6067cd0237",
      "metadata": {
        "id": "31c611a9-c5b3-4555-bf74-be6067cd0237"
      },
      "source": [
        "# SELECTING SCORES USING VADER"
      ]
    },
    {
      "cell_type": "code",
      "execution_count": null,
      "id": "7861b400-c541-4582-a45a-62444c0e1e8c",
      "metadata": {
        "id": "7861b400-c541-4582-a45a-62444c0e1e8c",
        "outputId": "8b813393-775f-4695-9714-aed56bd53e52"
      },
      "outputs": [
        {
          "name": "stderr",
          "output_type": "stream",
          "text": [
            "[nltk_data] Downloading package vader_lexicon to\n",
            "[nltk_data]     C:\\Users\\shrut\\AppData\\Roaming\\nltk_data...\n",
            "[nltk_data]   Package vader_lexicon is already up-to-date!\n"
          ]
        },
        {
          "data": {
            "text/plain": [
              "True"
            ]
          },
          "execution_count": 184,
          "metadata": {},
          "output_type": "execute_result"
        }
      ],
      "source": [
        "nltk.download('vader_lexicon')"
      ]
    },
    {
      "cell_type": "code",
      "execution_count": null,
      "id": "c501a657-1902-4e03-9ded-0e0576702cc4",
      "metadata": {
        "id": "c501a657-1902-4e03-9ded-0e0576702cc4",
        "outputId": "28b1567b-2bdb-4dce-d43a-237237de6fc1"
      },
      "outputs": [
        {
          "name": "stdout",
          "output_type": "stream",
          "text": [
            "{'neg': 0.0, 'neu': 1.0, 'pos': 0.0, 'compound': 0.0}\n"
          ]
        },
        {
          "name": "stderr",
          "output_type": "stream",
          "text": [
            "[nltk_data] Downloading package vader_lexicon to\n",
            "[nltk_data]     C:\\Users\\shrut\\AppData\\Roaming\\nltk_data...\n",
            "[nltk_data]   Package vader_lexicon is already up-to-date!\n"
          ]
        }
      ],
      "source": [
        "\n",
        "\n",
        "\n",
        "\n",
        "   import nltk\n",
        "   from nltk.sentiment.vader import SentimentIntensityAnalyzer\n",
        "\n",
        "\n",
        "   nltk.download('vader_lexicon')\n",
        "\n",
        "\n",
        "   sia = SentimentIntensityAnalyzer()\n",
        "\n",
        "\n",
        "   text = 'new articles'\n",
        "\n",
        "\n",
        "   sentiment_scores = sia.polarity_scores(text)\n",
        "\n",
        "   print(sentiment_scores)\n",
        "\n",
        "\n",
        "\n"
      ]
    },
    {
      "cell_type": "code",
      "execution_count": null,
      "id": "5aed75ad-e067-4ae6-9407-25729d7691a8",
      "metadata": {
        "id": "5aed75ad-e067-4ae6-9407-25729d7691a8",
        "outputId": "e3243232-98ee-436b-f50e-0af5d2f3fb27"
      },
      "outputs": [
        {
          "name": "stdout",
          "output_type": "stream",
          "text": [
            "Requirement already satisfied: transformers in c:\\users\\shrut\\anaconda3\\lib\\site-packages (4.47.1)\n",
            "Requirement already satisfied: filelock in c:\\users\\shrut\\anaconda3\\lib\\site-packages (from transformers) (3.13.1)\n",
            "Requirement already satisfied: huggingface-hub<1.0,>=0.24.0 in c:\\users\\shrut\\anaconda3\\lib\\site-packages (from transformers) (0.27.0)\n",
            "Requirement already satisfied: numpy>=1.17 in c:\\users\\shrut\\anaconda3\\lib\\site-packages (from transformers) (1.26.4)\n",
            "Requirement already satisfied: packaging>=20.0 in c:\\users\\shrut\\anaconda3\\lib\\site-packages (from transformers) (23.2)\n",
            "Requirement already satisfied: pyyaml>=5.1 in c:\\users\\shrut\\anaconda3\\lib\\site-packages (from transformers) (6.0.1)\n",
            "Requirement already satisfied: regex!=2019.12.17 in c:\\users\\shrut\\anaconda3\\lib\\site-packages (from transformers) (2023.10.3)\n",
            "Requirement already satisfied: requests in c:\\users\\shrut\\anaconda3\\lib\\site-packages (from transformers) (2.32.2)\n",
            "Requirement already satisfied: tokenizers<0.22,>=0.21 in c:\\users\\shrut\\anaconda3\\lib\\site-packages (from transformers) (0.21.0)\n",
            "Requirement already satisfied: safetensors>=0.4.1 in c:\\users\\shrut\\anaconda3\\lib\\site-packages (from transformers) (0.5.0)\n",
            "Requirement already satisfied: tqdm>=4.27 in c:\\users\\shrut\\anaconda3\\lib\\site-packages (from transformers) (4.66.4)\n",
            "Requirement already satisfied: fsspec>=2023.5.0 in c:\\users\\shrut\\anaconda3\\lib\\site-packages (from huggingface-hub<1.0,>=0.24.0->transformers) (2024.3.1)\n",
            "Requirement already satisfied: typing-extensions>=3.7.4.3 in c:\\users\\shrut\\anaconda3\\lib\\site-packages (from huggingface-hub<1.0,>=0.24.0->transformers) (4.11.0)\n",
            "Requirement already satisfied: colorama in c:\\users\\shrut\\anaconda3\\lib\\site-packages (from tqdm>=4.27->transformers) (0.4.6)\n",
            "Requirement already satisfied: charset-normalizer<4,>=2 in c:\\users\\shrut\\anaconda3\\lib\\site-packages (from requests->transformers) (2.0.4)\n",
            "Requirement already satisfied: idna<4,>=2.5 in c:\\users\\shrut\\anaconda3\\lib\\site-packages (from requests->transformers) (3.7)\n",
            "Requirement already satisfied: urllib3<3,>=1.21.1 in c:\\users\\shrut\\anaconda3\\lib\\site-packages (from requests->transformers) (2.2.2)\n",
            "Requirement already satisfied: certifi>=2017.4.17 in c:\\users\\shrut\\anaconda3\\lib\\site-packages (from requests->transformers) (2024.8.30)\n",
            "Note: you may need to restart the kernel to use updated packages.\n"
          ]
        }
      ],
      "source": [
        "pip install transformers"
      ]
    },
    {
      "cell_type": "markdown",
      "id": "30b26e6c-7c93-4740-b6fa-bb25fbe11206",
      "metadata": {
        "id": "30b26e6c-7c93-4740-b6fa-bb25fbe11206"
      },
      "source": [
        "# PREDICTIVE MODELING"
      ]
    },
    {
      "cell_type": "code",
      "execution_count": null,
      "id": "00188035-739c-4f5f-8626-13c9cad6e2e0",
      "metadata": {
        "id": "00188035-739c-4f5f-8626-13c9cad6e2e0"
      },
      "outputs": [],
      "source": [
        "\n",
        "\n",
        "import pandas as pd\n",
        "import nltk\n",
        "from nltk.classify import NaiveBayesClassifier\n",
        "from nltk.classify.util import accuracy\n",
        "from sklearn.model_selection import train_test_split\n",
        "\n",
        "\n",
        "def load_and_label_datasets():\n",
        "    politifact_real = pd.read_csv('politifact_real.csv')\n",
        "    politifact_fake = pd.read_csv('politifact_fake.csv')\n",
        "    gossipcop_real = pd.read_csv('gossipcop_real.csv')\n",
        "    gossipcop_fake = pd.read_csv('gossipcop_fake.csv')\n",
        "\n",
        "\n",
        "    politifact_real['sentiment'] = 'real'\n",
        "    politifact_fake['sentiment'] = 'fake'\n",
        "    gossipcop_real['sentiment'] = 'real'\n",
        "    gossipcop_fake['sentiment'] = 'fake'\n",
        "\n",
        "\n",
        "    combined_dataset = pd.concat([\n",
        "        politifact_real[['title', 'sentiment']],\n",
        "        politifact_fake[['title', 'sentiment']],\n",
        "        gossipcop_real[['title', 'sentiment']],\n",
        "        gossipcop_fake[['title','sentiment']]\n",
        "    ])\n",
        "\n",
        "\n",
        "    combined_dataset = combined_dataset.dropna(subset=['title'])\n",
        "\n",
        "\n",
        "    combined_dataset = combined_dataset.sample(frac=1, random_state=42).reset_index(drop=True)\n",
        "    return combined_dataset\n",
        "\n",
        "\n",
        "def document_features_simple(words):\n",
        "    return {word: True for word in words.split()}\n",
        "\n",
        "\n",
        "def main():\n",
        "    nltk.download('punkt', quiet=True)\n",
        "\n",
        "\n",
        "    dataset = load_and_label_datasets()\n",
        "\n",
        "\n",
        "    train_data, test_data = train_test_split(dataset, test_size=0.2, random_state=42)\n",
        "\n",
        "\n",
        "    train_set = [(document_features_simple(row['title']), row['sentiment']) for _, row in train_data.iterrows()]\n",
        "    test_set = [(document_features_simple(row['title']), row['sentiment']) for _, row in test_data.iterrows()]\n",
        "\n",
        "\n",
        "    classifier = NaiveBayesClassifier.train(train_set)\n",
        "\n",
        "\n",
        "    print(\"Accuracy:\", accuracy(classifier, test_set))\n",
        "\n",
        "\n",
        "    example_text = \"This is the best news ever\""
      ]
    },
    {
      "cell_type": "code",
      "execution_count": null,
      "id": "1c58ed58-1561-4d2f-86e7-d0e456bd01bf",
      "metadata": {
        "id": "1c58ed58-1561-4d2f-86e7-d0e456bd01bf",
        "outputId": "749c61ce-8a3a-44bc-a104-bca18e939b51"
      },
      "outputs": [
        {
          "name": "stdout",
          "output_type": "stream",
          "text": [
            "Requirement already satisfied: pandas in c:\\users\\shrut\\anaconda3\\lib\\site-packages (2.2.2)\n",
            "Requirement already satisfied: spacy in c:\\users\\shrut\\anaconda3\\lib\\site-packages (3.8.3)\n",
            "Requirement already satisfied: scikit-learn in c:\\users\\shrut\\anaconda3\\lib\\site-packages (1.4.2)\n",
            "Requirement already satisfied: matplotlib in c:\\users\\shrut\\anaconda3\\lib\\site-packages (3.8.4)\n",
            "Requirement already satisfied: seaborn in c:\\users\\shrut\\anaconda3\\lib\\site-packages (0.13.2)\n",
            "Requirement already satisfied: numpy>=1.26.0 in c:\\users\\shrut\\anaconda3\\lib\\site-packages (from pandas) (1.26.4)\n",
            "Requirement already satisfied: python-dateutil>=2.8.2 in c:\\users\\shrut\\anaconda3\\lib\\site-packages (from pandas) (2.9.0.post0)\n",
            "Requirement already satisfied: pytz>=2020.1 in c:\\users\\shrut\\anaconda3\\lib\\site-packages (from pandas) (2024.1)\n",
            "Requirement already satisfied: tzdata>=2022.7 in c:\\users\\shrut\\anaconda3\\lib\\site-packages (from pandas) (2023.3)\n",
            "Requirement already satisfied: spacy-legacy<3.1.0,>=3.0.11 in c:\\users\\shrut\\anaconda3\\lib\\site-packages (from spacy) (3.0.12)\n",
            "Requirement already satisfied: spacy-loggers<2.0.0,>=1.0.0 in c:\\users\\shrut\\anaconda3\\lib\\site-packages (from spacy) (1.0.5)\n",
            "Requirement already satisfied: murmurhash<1.1.0,>=0.28.0 in c:\\users\\shrut\\anaconda3\\lib\\site-packages (from spacy) (1.0.11)\n",
            "Requirement already satisfied: cymem<2.1.0,>=2.0.2 in c:\\users\\shrut\\anaconda3\\lib\\site-packages (from spacy) (2.0.10)\n",
            "Requirement already satisfied: preshed<3.1.0,>=3.0.2 in c:\\users\\shrut\\anaconda3\\lib\\site-packages (from spacy) (3.0.9)\n",
            "Requirement already satisfied: thinc<8.4.0,>=8.3.0 in c:\\users\\shrut\\anaconda3\\lib\\site-packages (from spacy) (8.3.3)\n",
            "Requirement already satisfied: wasabi<1.2.0,>=0.9.1 in c:\\users\\shrut\\anaconda3\\lib\\site-packages (from spacy) (1.1.3)\n",
            "Requirement already satisfied: srsly<3.0.0,>=2.4.3 in c:\\users\\shrut\\anaconda3\\lib\\site-packages (from spacy) (2.5.0)\n",
            "Requirement already satisfied: catalogue<2.1.0,>=2.0.6 in c:\\users\\shrut\\anaconda3\\lib\\site-packages (from spacy) (2.0.10)\n",
            "Requirement already satisfied: weasel<0.5.0,>=0.1.0 in c:\\users\\shrut\\anaconda3\\lib\\site-packages (from spacy) (0.4.1)\n",
            "Requirement already satisfied: typer<1.0.0,>=0.3.0 in c:\\users\\shrut\\anaconda3\\lib\\site-packages (from spacy) (0.15.1)\n",
            "Requirement already satisfied: tqdm<5.0.0,>=4.38.0 in c:\\users\\shrut\\anaconda3\\lib\\site-packages (from spacy) (4.66.4)\n",
            "Requirement already satisfied: requests<3.0.0,>=2.13.0 in c:\\users\\shrut\\anaconda3\\lib\\site-packages (from spacy) (2.32.2)\n",
            "Requirement already satisfied: pydantic!=1.8,!=1.8.1,<3.0.0,>=1.7.4 in c:\\users\\shrut\\anaconda3\\lib\\site-packages (from spacy) (2.5.3)\n",
            "Requirement already satisfied: jinja2 in c:\\users\\shrut\\anaconda3\\lib\\site-packages (from spacy) (3.1.4)\n",
            "Requirement already satisfied: setuptools in c:\\users\\shrut\\anaconda3\\lib\\site-packages (from spacy) (69.5.1)\n",
            "Requirement already satisfied: packaging>=20.0 in c:\\users\\shrut\\anaconda3\\lib\\site-packages (from spacy) (23.2)\n",
            "Requirement already satisfied: langcodes<4.0.0,>=3.2.0 in c:\\users\\shrut\\anaconda3\\lib\\site-packages (from spacy) (3.5.0)\n",
            "Requirement already satisfied: scipy>=1.6.0 in c:\\users\\shrut\\anaconda3\\lib\\site-packages (from scikit-learn) (1.13.1)\n",
            "Requirement already satisfied: joblib>=1.2.0 in c:\\users\\shrut\\anaconda3\\lib\\site-packages (from scikit-learn) (1.4.2)\n",
            "Requirement already satisfied: threadpoolctl>=2.0.0 in c:\\users\\shrut\\anaconda3\\lib\\site-packages (from scikit-learn) (2.2.0)\n",
            "Requirement already satisfied: contourpy>=1.0.1 in c:\\users\\shrut\\anaconda3\\lib\\site-packages (from matplotlib) (1.2.0)\n",
            "Requirement already satisfied: cycler>=0.10 in c:\\users\\shrut\\anaconda3\\lib\\site-packages (from matplotlib) (0.11.0)\n",
            "Requirement already satisfied: fonttools>=4.22.0 in c:\\users\\shrut\\anaconda3\\lib\\site-packages (from matplotlib) (4.51.0)\n",
            "Requirement already satisfied: kiwisolver>=1.3.1 in c:\\users\\shrut\\anaconda3\\lib\\site-packages (from matplotlib) (1.4.4)\n",
            "Requirement already satisfied: pillow>=8 in c:\\users\\shrut\\anaconda3\\lib\\site-packages (from matplotlib) (10.3.0)\n",
            "Requirement already satisfied: pyparsing>=2.3.1 in c:\\users\\shrut\\anaconda3\\lib\\site-packages (from matplotlib) (3.0.9)\n",
            "Requirement already satisfied: language-data>=1.2 in c:\\users\\shrut\\anaconda3\\lib\\site-packages (from langcodes<4.0.0,>=3.2.0->spacy) (1.3.0)\n",
            "Requirement already satisfied: annotated-types>=0.4.0 in c:\\users\\shrut\\anaconda3\\lib\\site-packages (from pydantic!=1.8,!=1.8.1,<3.0.0,>=1.7.4->spacy) (0.6.0)\n",
            "Requirement already satisfied: pydantic-core==2.14.6 in c:\\users\\shrut\\anaconda3\\lib\\site-packages (from pydantic!=1.8,!=1.8.1,<3.0.0,>=1.7.4->spacy) (2.14.6)\n",
            "Requirement already satisfied: typing-extensions>=4.6.1 in c:\\users\\shrut\\anaconda3\\lib\\site-packages (from pydantic!=1.8,!=1.8.1,<3.0.0,>=1.7.4->spacy) (4.11.0)\n",
            "Requirement already satisfied: six>=1.5 in c:\\users\\shrut\\anaconda3\\lib\\site-packages (from python-dateutil>=2.8.2->pandas) (1.16.0)\n",
            "Requirement already satisfied: charset-normalizer<4,>=2 in c:\\users\\shrut\\anaconda3\\lib\\site-packages (from requests<3.0.0,>=2.13.0->spacy) (2.0.4)\n",
            "Requirement already satisfied: idna<4,>=2.5 in c:\\users\\shrut\\anaconda3\\lib\\site-packages (from requests<3.0.0,>=2.13.0->spacy) (3.7)\n",
            "Requirement already satisfied: urllib3<3,>=1.21.1 in c:\\users\\shrut\\anaconda3\\lib\\site-packages (from requests<3.0.0,>=2.13.0->spacy) (2.2.2)\n",
            "Requirement already satisfied: certifi>=2017.4.17 in c:\\users\\shrut\\anaconda3\\lib\\site-packages (from requests<3.0.0,>=2.13.0->spacy) (2024.8.30)\n",
            "Requirement already satisfied: blis<1.2.0,>=1.1.0 in c:\\users\\shrut\\anaconda3\\lib\\site-packages (from thinc<8.4.0,>=8.3.0->spacy) (1.1.0)\n",
            "Requirement already satisfied: confection<1.0.0,>=0.0.1 in c:\\users\\shrut\\anaconda3\\lib\\site-packages (from thinc<8.4.0,>=8.3.0->spacy) (0.1.5)\n",
            "Requirement already satisfied: colorama in c:\\users\\shrut\\anaconda3\\lib\\site-packages (from tqdm<5.0.0,>=4.38.0->spacy) (0.4.6)\n",
            "Requirement already satisfied: click>=8.0.0 in c:\\users\\shrut\\anaconda3\\lib\\site-packages (from typer<1.0.0,>=0.3.0->spacy) (8.1.7)\n",
            "Requirement already satisfied: shellingham>=1.3.0 in c:\\users\\shrut\\anaconda3\\lib\\site-packages (from typer<1.0.0,>=0.3.0->spacy) (1.5.4)\n",
            "Requirement already satisfied: rich>=10.11.0 in c:\\users\\shrut\\anaconda3\\lib\\site-packages (from typer<1.0.0,>=0.3.0->spacy) (13.3.5)\n",
            "Requirement already satisfied: cloudpathlib<1.0.0,>=0.7.0 in c:\\users\\shrut\\anaconda3\\lib\\site-packages (from weasel<0.5.0,>=0.1.0->spacy) (0.20.0)\n",
            "Requirement already satisfied: smart-open<8.0.0,>=5.2.1 in c:\\users\\shrut\\anaconda3\\lib\\site-packages (from weasel<0.5.0,>=0.1.0->spacy) (5.2.1)\n",
            "Requirement already satisfied: MarkupSafe>=2.0 in c:\\users\\shrut\\anaconda3\\lib\\site-packages (from jinja2->spacy) (2.1.3)\n",
            "Requirement already satisfied: marisa-trie>=1.1.0 in c:\\users\\shrut\\anaconda3\\lib\\site-packages (from language-data>=1.2->langcodes<4.0.0,>=3.2.0->spacy) (1.2.1)\n",
            "Requirement already satisfied: markdown-it-py<3.0.0,>=2.2.0 in c:\\users\\shrut\\anaconda3\\lib\\site-packages (from rich>=10.11.0->typer<1.0.0,>=0.3.0->spacy) (2.2.0)\n",
            "Requirement already satisfied: pygments<3.0.0,>=2.13.0 in c:\\users\\shrut\\anaconda3\\lib\\site-packages (from rich>=10.11.0->typer<1.0.0,>=0.3.0->spacy) (2.15.1)\n",
            "Requirement already satisfied: mdurl~=0.1 in c:\\users\\shrut\\anaconda3\\lib\\site-packages (from markdown-it-py<3.0.0,>=2.2.0->rich>=10.11.0->typer<1.0.0,>=0.3.0->spacy) (0.1.0)\n",
            "Note: you may need to restart the kernel to use updated packages.\n"
          ]
        }
      ],
      "source": [
        "pip install pandas spacy scikit-learn matplotlib seaborn"
      ]
    },
    {
      "cell_type": "markdown",
      "id": "75f719d4-225c-4471-bf43-12433bb2144e",
      "metadata": {
        "id": "75f719d4-225c-4471-bf43-12433bb2144e"
      },
      "source": [
        "# VISUALIZATION"
      ]
    },
    {
      "cell_type": "code",
      "execution_count": null,
      "id": "8aeb5a2e-03ee-4856-88d5-9a8a6891372d",
      "metadata": {
        "id": "8aeb5a2e-03ee-4856-88d5-9a8a6891372d",
        "outputId": "0f4b4956-1ae1-4945-c7bc-8b783fb8a1af"
      },
      "outputs": [
        {
          "data": {
            "image/png": "[encoded data removed]",
            "text/plain": [
              "<Figure size 1000x600 with 1 Axes>"
            ]
          },
          "metadata": {},
          "output_type": "display_data"
        },
        {
          "data": {
            "image/png": "[encoded data removed]",
            "text/plain": [
              "<Figure size 1000x600 with 1 Axes>"
            ]
          },
          "metadata": {},
          "output_type": "display_data"
        },
        {
          "data": {
            "image/png": "[encoded data removed]",
            "text/plain": [
              "<Figure size 1000x600 with 2 Axes>"
            ]
          },
          "metadata": {},
          "output_type": "display_data"
        }
      ],
      "source": [
        "\n",
        "\n",
        "import pandas as pd\n",
        "import matplotlib.pyplot as plt\n",
        "import seaborn as sns\n",
        "\n",
        "\n",
        "data = {\n",
        "    'entity': ['Entity1', 'Entity2', 'Entity3', 'Entity1', 'Entity2', 'Entity3', 'Entity1'],\n",
        "    'frequency': [10, 15, 5, 20, 25, 10, 30],\n",
        "    'views': [100, 200, 50, 150, 300, 80, 250],\n",
        "    'likes': [10, 30, 5, 20, 50, 10, 40],\n",
        "}\n",
        "\n",
        "df = pd.DataFrame(data)\n",
        "\n",
        "\n",
        "plt.figure(figsize=(10, 6))\n",
        "sns.barplot(x='entity', y='frequency', data=df, estimator=sum)\n",
        "plt.title('Entity Frequency')\n",
        "plt.xlabel('Named Entity')\n",
        "plt.ylabel('Frequency')\n",
        "plt.show()\n",
        "\n",
        "\n",
        "plt.figure(figsize=(10, 6))\n",
        "sns.scatterplot(x='views', y='frequency', data=df, hue='entity', style='entity', s=100)\n",
        "plt.title('Scatter Plot of Views vs. Entity Frequency')\n",
        "plt.xlabel('Views')\n",
        "plt.ylabel('Entity Frequency')\n",
        "plt.legend(title='Named Entity')\n",
        "plt.show()\n",
        "\n",
        "\n",
        "engagement_data = df.pivot_table(index='entity', values=['views', 'likes'], aggfunc='sum')\n",
        "plt.figure(figsize=(10, 6))\n",
        "sns.heatmap(engagement_data, annot=True, cmap='coolwarm', fmt='g')\n",
        "plt.title('Heatmap of Engagement Metrics by Named Entity')\n",
        "plt.xlabel('Engagement Metrics')\n",
        "plt.ylabel('Named Entity')\n",
        "plt.show()\n",
        "\n",
        "\n"
      ]
    },
    {
      "cell_type": "code",
      "execution_count": null,
      "id": "f6878507-9757-4311-8b04-056fa68500ca",
      "metadata": {
        "id": "f6878507-9757-4311-8b04-056fa68500ca"
      },
      "outputs": [],
      "source": []
    }
  ],
  "metadata": {
    "kernelspec": {
      "display_name": "Python 3 (ipykernel)",
      "language": "python",
      "name": "python3"
    },
    "language_info": {
      "codemirror_mode": {
        "name": "ipython",
        "version": 3
      },
      "file_extension": ".py",
      "mimetype": "text/x-python",
      "name": "python",
      "nbconvert_exporter": "python",
      "pygments_lexer": "ipython3",
      "version": "3.12.4"
    },
    "colab": {
      "provenance": [],
      "include_colab_link": true
    }
  },
  "nbformat": 4,
  "nbformat_minor": 5
}